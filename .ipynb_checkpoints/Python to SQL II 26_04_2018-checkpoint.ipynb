{
 "cells": [
  {
   "cell_type": "code",
   "execution_count": 9,
   "metadata": {},
   "outputs": [],
   "source": [
    "import pyodbc\n"
   ]
  },
  {
   "cell_type": "code",
   "execution_count": 10,
   "metadata": {},
   "outputs": [],
   "source": [
    "conn = pyodbc.connect(r'DSN=adworksDSN;UID=python;PWD=password')"
   ]
  },
  {
   "cell_type": "code",
   "execution_count": 41,
   "metadata": {},
   "outputs": [],
   "source": [
    "cursor = conn.cursor()"
   ]
  },
  {
   "cell_type": "code",
   "execution_count": 2,
   "metadata": {},
   "outputs": [],
   "source": [
    "fp = 'C:\\Data\\customers.csv'"
   ]
  },
  {
   "cell_type": "code",
   "execution_count": 20,
   "metadata": {},
   "outputs": [],
   "source": [
    "table_1 = 'kubrick.customer'"
   ]
  },
  {
   "cell_type": "code",
   "execution_count": 21,
   "metadata": {},
   "outputs": [],
   "source": [
    "table_2 = 'kubrick.[Address]'"
   ]
  },
  {
   "cell_type": "code",
   "execution_count": 64,
   "metadata": {},
   "outputs": [
    {
     "name": "stdout",
     "output_type": "stream",
     "text": [
      "INSERT INTO kubrick.customer OUTPUT INSERTED.CID VALUES (?)\n",
      "54\n",
      "55\n",
      "56\n",
      "57\n",
      "58\n"
     ]
    }
   ],
   "source": [
    "with open(fp, 'r') as f:\n",
    "    columns = next(f).strip().split(',')\n",
    "    customer = []\n",
    "    query1 = ('INSERT INTO {0} OUTPUT INSERTED.CID VALUES (?)').format(table_1)\n",
    "    #query2 = ('INSERT INTO {0} VALUES '.format(table_2, ','.join('?' * len(columns) - 1)))\n",
    "    print(query1)\n",
    "    for i in f:\n",
    "        customer = i.strip().split(',')\n",
    "        name = customer[0]\n",
    "        Addr = customer[1]\n",
    "        City = customer[2]\n",
    "        PCode = customer[3]\n",
    "        CID = cursor.execute(query1, name).fetchall()\n",
    "        cursor.commit()\n",
    "        print(CID[0][0])\n",
    "        CID[0][0]"
   ]
  }
 ],
 "metadata": {
  "kernelspec": {
   "display_name": "Python 3",
   "language": "python",
   "name": "python3"
  },
  "language_info": {
   "codemirror_mode": {
    "name": "ipython",
    "version": 3
   },
   "file_extension": ".py",
   "mimetype": "text/x-python",
   "name": "python",
   "nbconvert_exporter": "python",
   "pygments_lexer": "ipython3",
   "version": "3.6.4"
  }
 },
 "nbformat": 4,
 "nbformat_minor": 2
}
