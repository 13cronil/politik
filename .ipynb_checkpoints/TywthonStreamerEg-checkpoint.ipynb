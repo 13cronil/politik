{
 "cells": [
  {
   "cell_type": "code",
   "execution_count": 69,
   "metadata": {},
   "outputs": [],
   "source": [
    "from twython import Twython, TwythonStreamer"
   ]
  },
  {
   "cell_type": "code",
   "execution_count": 70,
   "metadata": {},
   "outputs": [],
   "source": [
    "from auth import *"
   ]
  },
  {
   "cell_type": "code",
   "execution_count": 71,
   "metadata": {},
   "outputs": [],
   "source": [
    "twitter = Twython(CONSUMER_KEY, CONSUMER_SECRET)"
   ]
  },
  {
   "cell_type": "code",
   "execution_count": 72,
   "metadata": {},
   "outputs": [],
   "source": [
    "from pprint import pprint"
   ]
  },
  {
   "cell_type": "code",
   "execution_count": 73,
   "metadata": {},
   "outputs": [],
   "source": [
    "from vaderSentiment.vaderSentiment import SentimentIntensityAnalyzer"
   ]
  },
  {
   "cell_type": "code",
   "execution_count": 83,
   "metadata": {},
   "outputs": [],
   "source": [
    "import pyodbc"
   ]
  },
  {
   "cell_type": "code",
   "execution_count": 114,
   "metadata": {},
   "outputs": [],
   "source": [
    "import re"
   ]
  },
  {
   "cell_type": "code",
   "execution_count": 20,
   "metadata": {},
   "outputs": [],
   "source": [
    "analyser = SentimentIntensityAnalyzer()"
   ]
  },
  {
   "cell_type": "code",
   "execution_count": 27,
   "metadata": {},
   "outputs": [
    {
     "data": {
      "text/plain": [
       "{'neg': 0.0, 'neu': 0.86, 'pos': 0.14, 'compound': 0.0772}"
      ]
     },
     "execution_count": 27,
     "metadata": {},
     "output_type": "execute_result"
    }
   ],
   "source": [
    "analyser.polarity_scores('Morning commutes make me want to swim in acid')"
   ]
  },
  {
   "cell_type": "code",
   "execution_count": 74,
   "metadata": {},
   "outputs": [],
   "source": [
    "tweets = []"
   ]
  },
  {
   "cell_type": "code",
   "execution_count": 75,
   "metadata": {},
   "outputs": [],
   "source": [
    "tweet_pn = []"
   ]
  },
  {
   "cell_type": "code",
   "execution_count": 76,
   "metadata": {},
   "outputs": [],
   "source": [
    "class MyTwythonStreamer(TwythonStreamer):\n",
    "    def on_success(self, data):\n",
    "        if data['lang'] == 'en':\n",
    "            tweets.append(data)\n",
    "            print('received tweet number #{}'.format(len(tweets)))\n",
    "        if len(tweets) >= 20:\n",
    "            self.disconnect()\n",
    "    def on_error(self, status_code, data):\n",
    "        print(status_code, data)\n",
    "        self.disconnect()    "
   ]
  },
  {
   "cell_type": "code",
   "execution_count": 77,
   "metadata": {},
   "outputs": [],
   "source": [
    "stream = MyTwythonStreamer(CONSUMER_KEY, CONSUMER_SECRET, ACCESS_TOKEN, ACCESS_TOKEN_SECRET)"
   ]
  },
  {
   "cell_type": "code",
   "execution_count": 78,
   "metadata": {},
   "outputs": [
    {
     "name": "stdout",
     "output_type": "stream",
     "text": [
      "received tweet number #1\n",
      "received tweet number #2\n",
      "received tweet number #3\n",
      "received tweet number #4\n",
      "received tweet number #5\n",
      "received tweet number #6\n",
      "received tweet number #7\n",
      "received tweet number #8\n",
      "received tweet number #9\n",
      "received tweet number #10\n",
      "received tweet number #11\n",
      "received tweet number #12\n",
      "received tweet number #13\n",
      "received tweet number #14\n",
      "received tweet number #15\n",
      "received tweet number #16\n",
      "received tweet number #17\n",
      "received tweet number #18\n",
      "received tweet number #19\n",
      "received tweet number #20\n"
     ]
    }
   ],
   "source": [
    "stream.statuses.filter(track='ale')"
   ]
  },
  {
   "cell_type": "code",
   "execution_count": 218,
   "metadata": {},
   "outputs": [],
   "source": [
    "#pprint(tweets[16])"
   ]
  },
  {
   "cell_type": "code",
   "execution_count": 88,
   "metadata": {},
   "outputs": [],
   "source": [
    "np = {i['text']:analyser.polarity_scores(i['text'])['compound'] for i in tweets}"
   ]
  },
  {
   "cell_type": "code",
   "execution_count": 89,
   "metadata": {},
   "outputs": [
    {
     "name": "stdout",
     "output_type": "stream",
     "text": [
      "{'@aliasvaughn Wow Ale! Great find. I listened to the Pruitt hearing last week and at that time Pruitt played dumb ab… https://t.co/woWelvJGLx': 0.807,\n",
      " '@winkveron @TheFootballPink @philthyart @Matt_The_Met Fuck those two for a barrel of laughs... I remember £1.30 pin… https://t.co/u2GSGI5l0r': -0.5423,\n",
      " 'Ale Wife Death to Ego IPA on tap now. https://t.co/2o8WjEy0ZX #BeerMenus': -0.5994,\n",
      " 'Any cask ale from 5pm tonight for £2.50 a pint #greatoffer #caskales https://t.co/GRRtRCeIyM': 0.0,\n",
      " \"I wrote about Alejandro Zambras's 'Not to Read' for @thisissplice Up this morning here: https://t.co/3jlumVF6VD\": 0.0,\n",
      " \"Monk's House of Ale Repute (@monkshouseofale): Take 16 Kick the Can  is on, replacing Stone Buzzer Beater (@stonebrewingco)\": 0.0,\n",
      " \"Monk's House of Ale Repute (@monkshouseofale): Take 16 Stormy Jack (Nitro)  is on, replacing Big Sky Ivan The Terrible\": -0.4767,\n",
      " 'NEXT UP IN THE TANKER TRUCK SOUR SEASON: Sauvignon Blanc Gose (Ale Brewed w/ Sauvignon Blanc grapes and soured in a… https://t.co/z5eDjYWt3f': 0.0,\n",
      " 'New post (aleksey) has been published on https://t.co/hcKY8xLk9t - https://t.co/ZxegTwrWhc': 0.0,\n",
      " 'Potdomme !!! Dit is lekker !! - Drinking a Pale Ale by @bigdropbrewco - https://t.co/k3jRkg6bHn': 0.0,\n",
      " 'RT @AxholmeBrewing: ‘ Meet the Brewer!’ Here’s our amazing Head Brewer &amp; Founder - @MikeOBrewer holding our #Lincolnshire Lightning Pale Al…': 0.6239,\n",
      " 'RT @CityXNews: . @AxholmeBrewing Company launches new ale ahead of brewery opening\\n\\nhttps://t.co/CKyLuqo5aR https://t.co/W3nt1zrUIR': 0.0,\n",
      " 'RT @DeepBrew: SINKO, our #barrelaged golden ale with lime and orange zest!\\n\\n#ihearttally #lovefl #cincodemayo #craftbeer\\n\\nMore details to c…': 0.0,\n",
      " \"RT @J_R_R_J_S: Strong brown ale from Bugman's \\n\\nI drink that\\n\\n50 calibre shot from Nuln\\n\\nI shoot that\\n\\nTaal, Ostland, and Sigmar\\n\\n I praise…\": 0.2263,\n",
      " 'RT @beertoday: @dartmoorbrewery launches red #rye #ale as part of limited edition Dicovery series https://t.co/RafL52a22F #beer #brewing #D…': -0.2263,\n",
      " 'RT @jazleneee_08: Ale whattt 😍😍 https://t.co/dbv556IbWi': 0.0,\n",
      " 'Sometimes in life and in love you have to fight dirty to win ANNIE by Cynthia Woolf  https://t.co/UOyuu92kcL #paperback #BYNR': 0.5423,\n",
      " 'no same https://t.co/iutACuJpzD': -0.296,\n",
      " 'no to same https://t.co/iutACuJpzD': -0.296}\n"
     ]
    }
   ],
   "source": [
    "pprint(np)"
   ]
  },
  {
   "cell_type": "code",
   "execution_count": 261,
   "metadata": {},
   "outputs": [],
   "source": [
    "conn = pyodbc.connect('DSN=adworksDSN;UID=python;PWD=password')"
   ]
  },
  {
   "cell_type": "code",
   "execution_count": 262,
   "metadata": {},
   "outputs": [],
   "source": [
    "cursor = conn.cursor()"
   ]
  },
  {
   "cell_type": "code",
   "execution_count": 263,
   "metadata": {},
   "outputs": [],
   "source": [
    "parameters = ['[date]', '[text]', '[compound_sent]', '[location]', '[lang]', '[friends_count]', '[followers_count]', '[following]', '[favourites_count]', '[platform]']"
   ]
  },
  {
   "cell_type": "code",
   "execution_count": 264,
   "metadata": {},
   "outputs": [],
   "source": [
    "query = 'INSERT INTO kubrick.tweets ({}) VALUES ({})'.format(', '.join(parameters), ', '.join((len(parameters)) * '?'))"
   ]
  },
  {
   "cell_type": "code",
   "execution_count": 265,
   "metadata": {},
   "outputs": [
    {
     "data": {
      "text/plain": [
       "'INSERT INTO kubrick.tweets ([date], [text], [compound_sent], [location], [lang], [friends_count], [followers_count], [following], [favourites_count], [platform]) VALUES (?, ?, ?, ?, ?, ?, ?, ?, ?, ?)'"
      ]
     },
     "execution_count": 265,
     "metadata": {},
     "output_type": "execute_result"
    }
   ],
   "source": [
    "query"
   ]
  },
  {
   "cell_type": "code",
   "execution_count": 266,
   "metadata": {},
   "outputs": [],
   "source": [
    "for i in tweets:\n",
    "    date = i['timestamp_ms']\n",
    "    text = i['text']\n",
    "    compound_sent = analyser.polarity_scores(i['text'])['compound']\n",
    "    location = i['user']['location']\n",
    "    lang = i['user']['lang']\n",
    "    friends_count = i['user']['friends_count']\n",
    "    followers_count = i['user']['followers_count']\n",
    "    following = i['user']['following']\n",
    "    favourites_count = i['user']['favourites_count']\n",
    "    if re.findall('\\s(W?e?b?\\s?[A-Za-z]+)<\\/a>',i['source']) == []:\n",
    "        platform = ('')\n",
    "    else:\n",
    "        platform = re.findall('\\s(W?e?b?\\s?[A-Za-z]+)<\\/a>',i['source'])[0]\n",
    "    \n",
    "    #print(p)\n",
    "    cursor.execute(query, date, text, compound_sent, location, lang, friends_count, followers_count, following, favourites_count, platform)\n",
    "    #cursor.commit"
   ]
  },
  {
   "cell_type": "code",
   "execution_count": 252,
   "metadata": {},
   "outputs": [
    {
     "name": "stdout",
     "output_type": "stream",
     "text": [
      "['1525098063482', 'RT @DeepBrew: SINKO, our #barrelaged golden ale with lime and orange zest!\\n\\n#ihearttally #lovefl #cincodemayo #craftbeer\\n\\nMore details to c…', 0.0, 'Tallahassee, FL', 'en', 3371, 2213, None, 19170, 'Android']\n",
      "['1525098067703', 'Ale Wife Death to Ego IPA on tap now. https://t.co/2o8WjEy0ZX #BeerMenus', -0.5994, 'Sleepy Hollow, NY', 'en', 17, 233, None, 8, '']\n",
      "['1525098089923', \"Monk's House of Ale Repute (@monkshouseofale): Take 16 Kick the Can  is on, replacing Stone Buzzer Beater (@stonebrewingco)\", 0.0, None, 'en', 537, 1269, None, 2, '']\n",
      "['1525098139880', '@aliasvaughn Wow Ale! Great find. I listened to the Pruitt hearing last week and at that time Pruitt played dumb ab… https://t.co/woWelvJGLx', 0.807, 'California, USA', 'en', 101, 331, None, 20311, 'iPhone']\n",
      "['1525098141976', 'New post (aleksey) has been published on https://t.co/hcKY8xLk9t - https://t.co/ZxegTwrWhc', 0.0, 'World Wide', 'en', 3100, 1337, None, 30, '']\n",
      "['1525098153587', \"I wrote about Alejandro Zambras's 'Not to Read' for @thisissplice Up this morning here: https://t.co/3jlumVF6VD\", 0.0, 'Roswell, GA', 'en', 836, 295, None, 523, 'Web Client']\n",
      "['1525098201457', 'Potdomme !!! Dit is lekker !! - Drinking a Pale Ale by @bigdropbrewco - https://t.co/k3jRkg6bHn', 0.0, None, 'nl', 81, 194, None, 250, '']\n",
      "['1525098212281', \"RT @J_R_R_J_S: Strong brown ale from Bugman's \\n\\nI drink that\\n\\n50 calibre shot from Nuln\\n\\nI shoot that\\n\\nTaal, Ostland, and Sigmar\\n\\n I praise…\", 0.2263, None, 'en', 388, 236, None, 2212, 'Android']\n",
      "['1525098225164', 'RT @CityXNews: . @AxholmeBrewing Company launches new ale ahead of brewery opening\\n\\nhttps://t.co/CKyLuqo5aR https://t.co/W3nt1zrUIR', 0.0, None, 'en', 398, 447, None, 1101, 'Android']\n",
      "['1525098237944', '@winkveron @TheFootballPink @philthyart @Matt_The_Met Fuck those two for a barrel of laughs... I remember £1.30 pin… https://t.co/u2GSGI5l0r', -0.5423, 'Tyumen, Siberia', 'en', 845, 2391, None, 12580, 'Android']\n",
      "['1525098249704', 'RT @CityXNews: . @AxholmeBrewing Company launches new ale ahead of brewery opening\\n\\nhttps://t.co/CKyLuqo5aR https://t.co/W3nt1zrUIR', 0.0, 'Great Grimsby', 'en', 292, 225, None, 586, 'iPhone']\n",
      "['1525098252265', 'Sometimes in life and in love you have to fight dirty to win ANNIE by Cynthia Woolf  https://t.co/UOyuu92kcL #paperback #BYNR', 0.5423, 'Colorado', 'en', 20333, 34056, None, 14519, '']\n",
      "['1525098264775', 'RT @jazleneee_08: Ale whattt 😍😍 https://t.co/dbv556IbWi', 0.0, 'Texas, USA', 'en', 182, 536, None, 3930, 'iPhone']\n",
      "['1525098271123', 'no same https://t.co/iutACuJpzD', -0.296, 'kiedyś jako @ciastkoelma', 'pl', 345, 551, None, 6266, 'Android']\n",
      "['1525098287887', 'no to same https://t.co/iutACuJpzD', -0.296, 'kiedyś jako @ciastkoelma', 'pl', 345, 551, None, 6266, 'Android']\n",
      "['1525098308330', 'Any cask ale from 5pm tonight for £2.50 a pint #greatoffer #caskales https://t.co/GRRtRCeIyM', 0.0, 'Llanwenarth, Abergavenny', 'en-gb', 1996, 1569, None, 510, 'iPad']\n",
      "['1525098312366', 'RT @beertoday: @dartmoorbrewery launches red #rye #ale as part of limited edition Dicovery series https://t.co/RafL52a22F #beer #brewing #D…', -0.2263, 'Princetown, Dartmoor', 'en', 2931, 6153, None, 1740, 'Web Client']\n",
      "['1525098314823', 'RT @AxholmeBrewing: ‘ Meet the Brewer!’ Here’s our amazing Head Brewer &amp; Founder - @MikeOBrewer holding our #Lincolnshire Lightning Pale Al…', 0.6239, 'Great Grimsby', 'en', 292, 225, None, 589, 'iPhone']\n",
      "['1525098353790', \"Monk's House of Ale Repute (@monkshouseofale): Take 16 Stormy Jack (Nitro)  is on, replacing Big Sky Ivan The Terrible\", -0.4767, None, 'en', 537, 1269, None, 2, '']\n",
      "['1525098363129', 'NEXT UP IN THE TANKER TRUCK SOUR SEASON: Sauvignon Blanc Gose (Ale Brewed w/ Sauvignon Blanc grapes and soured in a… https://t.co/z5eDjYWt3f', 0.0, 'Boston, MA', 'en', 313, 1267, None, 1013, 'iPhone']\n"
     ]
    }
   ],
   "source": [
    "for i in tweets:\n",
    "    p = []\n",
    "    p.append(i['timestamp_ms'])\n",
    "    p.append(i['text'])\n",
    "    p.append(analyser.polarity_scores(i['text'])['compound'])\n",
    "    p.append(i['user']['location'])\n",
    "    p.append(i['user']['lang'])\n",
    "    p.append(i['user']['friends_count'])\n",
    "    p.append(i['user']['followers_count'])\n",
    "    p.append(i['user']['following'])\n",
    "    p.append(i['user']['favourites_count'])\n",
    "    if re.findall('\\s(W?e?b?\\s?[A-Za-z]+)<\\/a>',i['source']) == []:\n",
    "        p.append('')\n",
    "    else:\n",
    "        p.append(re.findall('\\s(W?e?b?\\s?[A-Za-z]+)<\\/a>',i['source'])[0])\n",
    "    \n",
    "    print(p)\n",
    "    cursor.execute(query, p)\n",
    "    cursor.commit"
   ]
  },
  {
   "cell_type": "code",
   "execution_count": 217,
   "metadata": {},
   "outputs": [
    {
     "data": {
      "text/plain": [
       "<function Cursor.commit>"
      ]
     },
     "execution_count": 217,
     "metadata": {},
     "output_type": "execute_result"
    }
   ],
   "source": [
    "cursor.commit"
   ]
  },
  {
   "cell_type": "code",
   "execution_count": 260,
   "metadata": {},
   "outputs": [],
   "source": [
    "cursor.close()\n",
    "del cursor\n",
    "conn.close()"
   ]
  },
  {
   "cell_type": "code",
   "execution_count": 198,
   "metadata": {},
   "outputs": [
    {
     "data": {
      "text/plain": [
       "'iPhone'"
      ]
     },
     "execution_count": 198,
     "metadata": {},
     "output_type": "execute_result"
    }
   ],
   "source": [
    "asd[0]"
   ]
  }
 ],
 "metadata": {
  "kernelspec": {
   "display_name": "Python 3",
   "language": "python",
   "name": "python3"
  },
  "language_info": {
   "codemirror_mode": {
    "name": "ipython",
    "version": 3
   },
   "file_extension": ".py",
   "mimetype": "text/x-python",
   "name": "python",
   "nbconvert_exporter": "python",
   "pygments_lexer": "ipython3",
   "version": "3.6.4"
  }
 },
 "nbformat": 4,
 "nbformat_minor": 2
}
